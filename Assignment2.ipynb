{
 "cells": [
  {
   "cell_type": "markdown",
   "source": [
    "# Assignment 2 - Machine Learning\n",
    "\n",
    "We chose this and did that bla bla bla...\n",
    "<br>\n",
    "\n",
    "## Part 1 - Data Preparation"
   ],
   "metadata": {
    "collapsed": false
   },
   "id": "6e567b23b8a221dc"
  },
  {
   "cell_type": "code",
   "execution_count": 94,
   "outputs": [],
   "source": [
    "import pandas as pd\n",
    "from matplotlib import pyplot as plt\n",
    "from sklearn.model_selection import train_test_split"
   ],
   "metadata": {
    "collapsed": false,
    "ExecuteTime": {
     "end_time": "2023-10-29T13:45:17.806236Z",
     "start_time": "2023-10-29T13:45:17.783536Z"
    }
   },
   "id": "a4116cfed679f568"
  },
  {
   "cell_type": "code",
   "execution_count": 95,
   "outputs": [
    {
     "data": {
      "text/plain": "            Date        Open        High         Low       Close   Adj Close  \\\n0     2010-06-29    1.266667    1.666667    1.169333    1.592667    1.592667   \n1     2010-06-30    1.719333    2.028000    1.553333    1.588667    1.588667   \n2     2010-07-01    1.666667    1.728000    1.351333    1.464000    1.464000   \n3     2010-07-02    1.533333    1.540000    1.247333    1.280000    1.280000   \n4     2010-07-06    1.333333    1.333333    1.055333    1.074000    1.074000   \n...          ...         ...         ...         ...         ...         ...   \n3352  2023-10-23  210.000000  216.979996  202.509995  212.080002  212.080002   \n3353  2023-10-24  216.500000  222.050003  214.110001  216.520004  216.520004   \n3354  2023-10-25  215.880005  220.100006  212.199997  212.419998  212.419998   \n3355  2023-10-26  211.320007  214.800003  204.880005  205.759995  205.759995   \n3356  2023-10-27  210.600006  212.410004  205.770004  207.300003  207.300003   \n\n         Volume  \n0     281494500  \n1     257806500  \n2     123282000  \n3      77097000  \n4     103003500  \n...         ...  \n3352  150683400  \n3353  118231100  \n3354  107065100  \n3355  115112600  \n3356   94728100  \n\n[3357 rows x 7 columns]",
      "text/html": "<div>\n<style scoped>\n    .dataframe tbody tr th:only-of-type {\n        vertical-align: middle;\n    }\n\n    .dataframe tbody tr th {\n        vertical-align: top;\n    }\n\n    .dataframe thead th {\n        text-align: right;\n    }\n</style>\n<table border=\"1\" class=\"dataframe\">\n  <thead>\n    <tr style=\"text-align: right;\">\n      <th></th>\n      <th>Date</th>\n      <th>Open</th>\n      <th>High</th>\n      <th>Low</th>\n      <th>Close</th>\n      <th>Adj Close</th>\n      <th>Volume</th>\n    </tr>\n  </thead>\n  <tbody>\n    <tr>\n      <th>0</th>\n      <td>2010-06-29</td>\n      <td>1.266667</td>\n      <td>1.666667</td>\n      <td>1.169333</td>\n      <td>1.592667</td>\n      <td>1.592667</td>\n      <td>281494500</td>\n    </tr>\n    <tr>\n      <th>1</th>\n      <td>2010-06-30</td>\n      <td>1.719333</td>\n      <td>2.028000</td>\n      <td>1.553333</td>\n      <td>1.588667</td>\n      <td>1.588667</td>\n      <td>257806500</td>\n    </tr>\n    <tr>\n      <th>2</th>\n      <td>2010-07-01</td>\n      <td>1.666667</td>\n      <td>1.728000</td>\n      <td>1.351333</td>\n      <td>1.464000</td>\n      <td>1.464000</td>\n      <td>123282000</td>\n    </tr>\n    <tr>\n      <th>3</th>\n      <td>2010-07-02</td>\n      <td>1.533333</td>\n      <td>1.540000</td>\n      <td>1.247333</td>\n      <td>1.280000</td>\n      <td>1.280000</td>\n      <td>77097000</td>\n    </tr>\n    <tr>\n      <th>4</th>\n      <td>2010-07-06</td>\n      <td>1.333333</td>\n      <td>1.333333</td>\n      <td>1.055333</td>\n      <td>1.074000</td>\n      <td>1.074000</td>\n      <td>103003500</td>\n    </tr>\n    <tr>\n      <th>...</th>\n      <td>...</td>\n      <td>...</td>\n      <td>...</td>\n      <td>...</td>\n      <td>...</td>\n      <td>...</td>\n      <td>...</td>\n    </tr>\n    <tr>\n      <th>3352</th>\n      <td>2023-10-23</td>\n      <td>210.000000</td>\n      <td>216.979996</td>\n      <td>202.509995</td>\n      <td>212.080002</td>\n      <td>212.080002</td>\n      <td>150683400</td>\n    </tr>\n    <tr>\n      <th>3353</th>\n      <td>2023-10-24</td>\n      <td>216.500000</td>\n      <td>222.050003</td>\n      <td>214.110001</td>\n      <td>216.520004</td>\n      <td>216.520004</td>\n      <td>118231100</td>\n    </tr>\n    <tr>\n      <th>3354</th>\n      <td>2023-10-25</td>\n      <td>215.880005</td>\n      <td>220.100006</td>\n      <td>212.199997</td>\n      <td>212.419998</td>\n      <td>212.419998</td>\n      <td>107065100</td>\n    </tr>\n    <tr>\n      <th>3355</th>\n      <td>2023-10-26</td>\n      <td>211.320007</td>\n      <td>214.800003</td>\n      <td>204.880005</td>\n      <td>205.759995</td>\n      <td>205.759995</td>\n      <td>115112600</td>\n    </tr>\n    <tr>\n      <th>3356</th>\n      <td>2023-10-27</td>\n      <td>210.600006</td>\n      <td>212.410004</td>\n      <td>205.770004</td>\n      <td>207.300003</td>\n      <td>207.300003</td>\n      <td>94728100</td>\n    </tr>\n  </tbody>\n</table>\n<p>3357 rows × 7 columns</p>\n</div>"
     },
     "execution_count": 95,
     "metadata": {},
     "output_type": "execute_result"
    }
   ],
   "source": [
    "df = pd.read_csv('https://query1.finance.yahoo.com/v7/finance/download/TSLA?period1=1277769600&period2=1698537600&interval=1d&events=history&includeAdjustedClose=true')\n",
    "df"
   ],
   "metadata": {
    "collapsed": false,
    "ExecuteTime": {
     "end_time": "2023-10-29T13:45:20.134935Z",
     "start_time": "2023-10-29T13:45:17.804565Z"
    }
   },
   "id": "1b0127623e1a19af"
  },
  {
   "cell_type": "code",
   "execution_count": 96,
   "outputs": [
    {
     "name": "stdout",
     "output_type": "stream",
     "text": [
      "<class 'pandas.core.frame.DataFrame'>\n",
      "RangeIndex: 3357 entries, 0 to 3356\n",
      "Data columns (total 2 columns):\n",
      " #   Column     Non-Null Count  Dtype  \n",
      "---  ------     --------------  -----  \n",
      " 0   Date       3357 non-null   object \n",
      " 1   Adj Close  3357 non-null   float64\n",
      "dtypes: float64(1), object(1)\n",
      "memory usage: 52.6+ KB\n"
     ]
    }
   ],
   "source": [
    "df = df.drop(['Open', 'High', 'Low', 'Close', 'Volume'], axis=1)\n",
    "df.info()"
   ],
   "metadata": {
    "collapsed": false,
    "ExecuteTime": {
     "end_time": "2023-10-29T13:45:20.166369Z",
     "start_time": "2023-10-29T13:45:20.133884Z"
    }
   },
   "id": "58dc51ea582ed2c7"
  },
  {
   "cell_type": "code",
   "execution_count": 97,
   "outputs": [],
   "source": [
    "df = df.rename(columns={'Adj Close': 'Adj_Close'})"
   ],
   "metadata": {
    "collapsed": false,
    "ExecuteTime": {
     "end_time": "2023-10-29T13:45:20.166582Z",
     "start_time": "2023-10-29T13:45:20.142254Z"
    }
   },
   "id": "d18f07654d3c81ed"
  },
  {
   "cell_type": "code",
   "execution_count": 98,
   "outputs": [],
   "source": [
    "# Turn date into values that can be used by the model\n",
    "from datetime import datetime as dt\n",
    "\n",
    "df['Date'] = pd.to_datetime(df['Date'])\n",
    "df['Date'] = df['Date'].map(dt.toordinal) # day as integer since 1.1.1\n",
    "df.sort_values(by=['Date'], inplace=True)"
   ],
   "metadata": {
    "collapsed": false,
    "ExecuteTime": {
     "end_time": "2023-10-29T13:45:20.215459Z",
     "start_time": "2023-10-29T13:45:20.152546Z"
    }
   },
   "id": "532ef1c869af477d"
  },
  {
   "cell_type": "code",
   "execution_count": 99,
   "outputs": [
    {
     "data": {
      "text/plain": "      Date   Adj_Close\n0        0    1.592667\n1        1    1.588667\n2        2    1.464000\n3        3    1.280000\n4        7    1.074000\n...    ...         ...\n3352  4864  212.080002\n3353  4865  216.520004\n3354  4866  212.419998\n3355  4867  205.759995\n3356  4868  207.300003\n\n[3357 rows x 2 columns]",
      "text/html": "<div>\n<style scoped>\n    .dataframe tbody tr th:only-of-type {\n        vertical-align: middle;\n    }\n\n    .dataframe tbody tr th {\n        vertical-align: top;\n    }\n\n    .dataframe thead th {\n        text-align: right;\n    }\n</style>\n<table border=\"1\" class=\"dataframe\">\n  <thead>\n    <tr style=\"text-align: right;\">\n      <th></th>\n      <th>Date</th>\n      <th>Adj_Close</th>\n    </tr>\n  </thead>\n  <tbody>\n    <tr>\n      <th>0</th>\n      <td>0</td>\n      <td>1.592667</td>\n    </tr>\n    <tr>\n      <th>1</th>\n      <td>1</td>\n      <td>1.588667</td>\n    </tr>\n    <tr>\n      <th>2</th>\n      <td>2</td>\n      <td>1.464000</td>\n    </tr>\n    <tr>\n      <th>3</th>\n      <td>3</td>\n      <td>1.280000</td>\n    </tr>\n    <tr>\n      <th>4</th>\n      <td>7</td>\n      <td>1.074000</td>\n    </tr>\n    <tr>\n      <th>...</th>\n      <td>...</td>\n      <td>...</td>\n    </tr>\n    <tr>\n      <th>3352</th>\n      <td>4864</td>\n      <td>212.080002</td>\n    </tr>\n    <tr>\n      <th>3353</th>\n      <td>4865</td>\n      <td>216.520004</td>\n    </tr>\n    <tr>\n      <th>3354</th>\n      <td>4866</td>\n      <td>212.419998</td>\n    </tr>\n    <tr>\n      <th>3355</th>\n      <td>4867</td>\n      <td>205.759995</td>\n    </tr>\n    <tr>\n      <th>3356</th>\n      <td>4868</td>\n      <td>207.300003</td>\n    </tr>\n  </tbody>\n</table>\n<p>3357 rows × 2 columns</p>\n</div>"
     },
     "execution_count": 99,
     "metadata": {},
     "output_type": "execute_result"
    }
   ],
   "source": [
    "# scaling the dates\n",
    "\n",
    "min_date = df['Date'].min()\n",
    "df['Date'] = df['Date'] - min_date\n",
    "\n",
    "df"
   ],
   "metadata": {
    "collapsed": false,
    "ExecuteTime": {
     "end_time": "2023-10-29T13:45:20.216060Z",
     "start_time": "2023-10-29T13:45:20.156757Z"
    }
   },
   "id": "e8e7fef35e4acbf6"
  },
  {
   "cell_type": "code",
   "execution_count": 100,
   "outputs": [
    {
     "data": {
      "text/plain": "<matplotlib.collections.PathCollection at 0x1693878b0>"
     },
     "execution_count": 100,
     "metadata": {},
     "output_type": "execute_result"
    },
    {
     "data": {
      "text/plain": "<Figure size 640x480 with 1 Axes>",
      "image/png": "[encoded data removed]"
     },
     "metadata": {},
     "output_type": "display_data"
    }
   ],
   "source": [
    "plt.scatter(df.Date, df.Adj_Close, marker='.')"
   ],
   "metadata": {
    "collapsed": false,
    "ExecuteTime": {
     "end_time": "2023-10-29T13:45:20.421947Z",
     "start_time": "2023-10-29T13:45:20.163589Z"
    }
   },
   "id": "d91164d2d83d0dc0"
  },
  {
   "cell_type": "markdown",
   "source": [
    "## Part 2 - Split - Training and testing"
   ],
   "metadata": {
    "collapsed": false
   },
   "id": "9914b0c97de431b"
  },
  {
   "cell_type": "code",
   "execution_count": 101,
   "outputs": [],
   "source": [
    "# Split data into training and testing\n",
    "X = df.Date.values.reshape(-1, 1)\n",
    "y = df.Adj_Close.values.reshape(-1, 1)\n",
    "\n",
    "X_train, X_test, y_train, y_test = train_test_split(X, y, test_size=0.35)"
   ],
   "metadata": {
    "collapsed": false,
    "ExecuteTime": {
     "end_time": "2023-10-29T13:45:20.422144Z",
     "start_time": "2023-10-29T13:45:20.244943Z"
    }
   },
   "id": "fe3d01b69cb0e619"
  },
  {
   "cell_type": "markdown",
   "source": [
    "## Part 3 - Polynomial Regression"
   ],
   "metadata": {
    "collapsed": false
   },
   "id": "f6969b3e73a029ac"
  },
  {
   "cell_type": "code",
   "execution_count": 102,
   "outputs": [],
   "source": [
    "from sklearn.preprocessing import PolynomialFeatures\n",
    "from sklearn.linear_model import LinearRegression"
   ],
   "metadata": {
    "collapsed": false,
    "ExecuteTime": {
     "end_time": "2023-10-29T13:45:20.422222Z",
     "start_time": "2023-10-29T13:45:20.248161Z"
    }
   },
   "id": "9c4e487eb35d1772"
  },
  {
   "cell_type": "code",
   "execution_count": 103,
   "outputs": [],
   "source": [
    "# Transform input data\n",
    "poly = PolynomialFeatures(degree=12)\n",
    "X_train_poly = poly.fit_transform(X_train)\n",
    "X_test_poly = poly.transform(X_test)"
   ],
   "metadata": {
    "collapsed": false,
    "ExecuteTime": {
     "end_time": "2023-10-29T13:45:20.422679Z",
     "start_time": "2023-10-29T13:45:20.251389Z"
    }
   },
   "id": "a97ce45d45ed3cab"
  },
  {
   "cell_type": "code",
   "execution_count": 104,
   "outputs": [
    {
     "data": {
      "text/plain": "LinearRegression()",
      "text/html": "<style>#sk-container-id-7 {color: black;}#sk-container-id-7 pre{padding: 0;}#sk-container-id-7 div.sk-toggleable {background-color: white;}#sk-container-id-7 label.sk-toggleable__label {cursor: pointer;display: block;width: 100%;margin-bottom: 0;padding: 0.3em;box-sizing: border-box;text-align: center;}#sk-container-id-7 label.sk-toggleable__label-arrow:before {content: \"▸\";float: left;margin-right: 0.25em;color: #696969;}#sk-container-id-7 label.sk-toggleable__label-arrow:hover:before {color: black;}#sk-container-id-7 div.sk-estimator:hover label.sk-toggleable__label-arrow:before {color: black;}#sk-container-id-7 div.sk-toggleable__content {max-height: 0;max-width: 0;overflow: hidden;text-align: left;background-color: #f0f8ff;}#sk-container-id-7 div.sk-toggleable__content pre {margin: 0.2em;color: black;border-radius: 0.25em;background-color: #f0f8ff;}#sk-container-id-7 input.sk-toggleable__control:checked~div.sk-toggleable__content {max-height: 200px;max-width: 100%;overflow: auto;}#sk-container-id-7 input.sk-toggleable__control:checked~label.sk-toggleable__label-arrow:before {content: \"▾\";}#sk-container-id-7 div.sk-estimator input.sk-toggleable__control:checked~label.sk-toggleable__label {background-color: #d4ebff;}#sk-container-id-7 div.sk-label input.sk-toggleable__control:checked~label.sk-toggleable__label {background-color: #d4ebff;}#sk-container-id-7 input.sk-hidden--visually {border: 0;clip: rect(1px 1px 1px 1px);clip: rect(1px, 1px, 1px, 1px);height: 1px;margin: -1px;overflow: hidden;padding: 0;position: absolute;width: 1px;}#sk-container-id-7 div.sk-estimator {font-family: monospace;background-color: #f0f8ff;border: 1px dotted black;border-radius: 0.25em;box-sizing: border-box;margin-bottom: 0.5em;}#sk-container-id-7 div.sk-estimator:hover {background-color: #d4ebff;}#sk-container-id-7 div.sk-parallel-item::after {content: \"\";width: 100%;border-bottom: 1px solid gray;flex-grow: 1;}#sk-container-id-7 div.sk-label:hover label.sk-toggleable__label {background-color: #d4ebff;}#sk-container-id-7 div.sk-serial::before {content: \"\";position: absolute;border-left: 1px solid gray;box-sizing: border-box;top: 0;bottom: 0;left: 50%;z-index: 0;}#sk-container-id-7 div.sk-serial {display: flex;flex-direction: column;align-items: center;background-color: white;padding-right: 0.2em;padding-left: 0.2em;position: relative;}#sk-container-id-7 div.sk-item {position: relative;z-index: 1;}#sk-container-id-7 div.sk-parallel {display: flex;align-items: stretch;justify-content: center;background-color: white;position: relative;}#sk-container-id-7 div.sk-item::before, #sk-container-id-7 div.sk-parallel-item::before {content: \"\";position: absolute;border-left: 1px solid gray;box-sizing: border-box;top: 0;bottom: 0;left: 50%;z-index: -1;}#sk-container-id-7 div.sk-parallel-item {display: flex;flex-direction: column;z-index: 1;position: relative;background-color: white;}#sk-container-id-7 div.sk-parallel-item:first-child::after {align-self: flex-end;width: 50%;}#sk-container-id-7 div.sk-parallel-item:last-child::after {align-self: flex-start;width: 50%;}#sk-container-id-7 div.sk-parallel-item:only-child::after {width: 0;}#sk-container-id-7 div.sk-dashed-wrapped {border: 1px dashed gray;margin: 0 0.4em 0.5em 0.4em;box-sizing: border-box;padding-bottom: 0.4em;background-color: white;}#sk-container-id-7 div.sk-label label {font-family: monospace;font-weight: bold;display: inline-block;line-height: 1.2em;}#sk-container-id-7 div.sk-label-container {text-align: center;}#sk-container-id-7 div.sk-container {/* jupyter's `normalize.less` sets `[hidden] { display: none; }` but bootstrap.min.css set `[hidden] { display: none !important; }` so we also need the `!important` here to be able to override the default hidden behavior on the sphinx rendered scikit-learn.org. See: https://github.com/scikit-learn/scikit-learn/issues/21755 */display: inline-block !important;position: relative;}#sk-container-id-7 div.sk-text-repr-fallback {display: none;}</style><div id=\"sk-container-id-7\" class=\"sk-top-container\"><div class=\"sk-text-repr-fallback\"><pre>LinearRegression()</pre><b>In a Jupyter environment, please rerun this cell to show the HTML representation or trust the notebook. <br />On GitHub, the HTML representation is unable to render, please try loading this page with nbviewer.org.</b></div><div class=\"sk-container\" hidden><div class=\"sk-item\"><div class=\"sk-estimator sk-toggleable\"><input class=\"sk-toggleable__control sk-hidden--visually\" id=\"sk-estimator-id-7\" type=\"checkbox\" checked><label for=\"sk-estimator-id-7\" class=\"sk-toggleable__label sk-toggleable__label-arrow\">LinearRegression</label><div class=\"sk-toggleable__content\"><pre>LinearRegression()</pre></div></div></div></div></div>"
     },
     "execution_count": 104,
     "metadata": {},
     "output_type": "execute_result"
    }
   ],
   "source": [
    "# Create model\n",
    "model = LinearRegression()\n",
    "model.fit(X_train_poly, y_train)"
   ],
   "metadata": {
    "collapsed": false,
    "ExecuteTime": {
     "end_time": "2023-10-29T13:45:20.459081Z",
     "start_time": "2023-10-29T13:45:20.255619Z"
    }
   },
   "id": "dfbadc0669f7904a"
  },
  {
   "cell_type": "code",
   "execution_count": 105,
   "outputs": [],
   "source": [
    "# Predict\n",
    "y_pred = model.predict(X_test_poly)"
   ],
   "metadata": {
    "collapsed": false,
    "ExecuteTime": {
     "end_time": "2023-10-29T13:45:20.460581Z",
     "start_time": "2023-10-29T13:45:20.300879Z"
    }
   },
   "id": "b1480f2d2401fc7c"
  },
  {
   "cell_type": "code",
   "execution_count": 106,
   "outputs": [
    {
     "data": {
      "text/plain": "<Figure size 640x480 with 1 Axes>",
      "image/png": "[encoded data removed]"
     },
     "metadata": {},
     "output_type": "display_data"
    }
   ],
   "source": [
    "# Plot\n",
    "sorted_indices = X_test.ravel().argsort()\n",
    "X_test_sorted = X_test[sorted_indices]\n",
    "y_pred_sorted = y_pred[sorted_indices]\n",
    "\n",
    "plt.scatter(X_test, y_test, marker='.')\n",
    "plt.plot(X_test_sorted, y_pred_sorted, color='red')\n",
    "plt.show()\n"
   ],
   "metadata": {
    "collapsed": false,
    "ExecuteTime": {
     "end_time": "2023-10-29T13:45:20.621015Z",
     "start_time": "2023-10-29T13:45:20.386309Z"
    }
   },
   "id": "4d3ba3d97d31f050"
  },
  {
   "cell_type": "markdown",
   "source": [
    "# Mean squared error"
   ],
   "metadata": {
    "collapsed": false
   },
   "id": "35dcbd786d7a1293"
  },
  {
   "cell_type": "code",
   "execution_count": 107,
   "outputs": [
    {
     "name": "stdout",
     "output_type": "stream",
     "text": [
      "790.5440383087671\n"
     ]
    }
   ],
   "source": [
    "from sklearn.metrics import mean_squared_error\n",
    "\n",
    "mse = mean_squared_error(y_test, y_pred)\n",
    "print(mse)"
   ],
   "metadata": {
    "collapsed": false,
    "ExecuteTime": {
     "end_time": "2023-10-29T13:45:20.624978Z",
     "start_time": "2023-10-29T13:45:20.541750Z"
    }
   },
   "id": "ab00875802bba579"
  },
  {
   "cell_type": "code",
   "execution_count": 108,
   "outputs": [
    {
     "name": "stdout",
     "output_type": "stream",
     "text": [
      "0.9214703922432486\n"
     ]
    }
   ],
   "source": [
    "# R2 score\n",
    "from sklearn.metrics import r2_score\n",
    "\n",
    "r2 = r2_score(y_test, y_pred)\n",
    "print(r2)"
   ],
   "metadata": {
    "collapsed": false,
    "ExecuteTime": {
     "end_time": "2023-10-29T13:45:20.625230Z",
     "start_time": "2023-10-29T13:45:20.547041Z"
    }
   },
   "id": "b36ced16b36c5b2"
  },
  {
   "cell_type": "code",
   "execution_count": 108,
   "outputs": [],
   "source": [],
   "metadata": {
    "collapsed": false,
    "ExecuteTime": {
     "end_time": "2023-10-29T13:45:20.625304Z",
     "start_time": "2023-10-29T13:45:20.552859Z"
    }
   },
   "id": "57b7811801843a91"
  }
 ],
 "metadata": {
  "kernelspec": {
   "display_name": "Python 3",
   "language": "python",
   "name": "python3"
  },
  "language_info": {
   "codemirror_mode": {
    "name": "ipython",
    "version": 2
   },
   "file_extension": ".py",
   "mimetype": "text/x-python",
   "name": "python",
   "nbconvert_exporter": "python",
   "pygments_lexer": "ipython2",
   "version": "2.7.6"
  }
 },
 "nbformat": 4,
 "nbformat_minor": 5
}
